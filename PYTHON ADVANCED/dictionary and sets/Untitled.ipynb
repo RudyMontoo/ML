{
 "cells": [
  {
   "cell_type": "code",
   "execution_count": 1,
   "id": "0287e180-f5f6-40a3-b523-2e1b86114d0a",
   "metadata": {},
   "outputs": [
    {
     "data": {
      "text/plain": [
       "{1, 2, 3, 4}"
      ]
     },
     "execution_count": 1,
     "metadata": {},
     "output_type": "execute_result"
    }
   ],
   "source": [
    "myset=set([1,2,3,4,4,3])\n",
    "myset"
   ]
  },
  {
   "cell_type": "code",
   "execution_count": 2,
   "id": "05104847-d907-46aa-a364-8d1a78c4be8f",
   "metadata": {},
   "outputs": [
    {
     "data": {
      "text/plain": [
       "[1, 2, 3, 4]"
      ]
     },
     "execution_count": 2,
     "metadata": {},
     "output_type": "execute_result"
    }
   ],
   "source": [
    "list(myset)"
   ]
  },
  {
   "cell_type": "code",
   "execution_count": 4,
   "id": "c6bad52b-3302-4362-98a6-6678eff63f13",
   "metadata": {},
   "outputs": [
    {
     "data": {
      "text/plain": [
       "{'biryani', 'dosa', 'idli'}"
      ]
     },
     "execution_count": 4,
     "metadata": {},
     "output_type": "execute_result"
    }
   ],
   "source": [
    "menu=set(['dosa' , 'idli', 'biryani'])\n",
    "menu"
   ]
  },
  {
   "cell_type": "code",
   "execution_count": 5,
   "id": "736c0abc-105f-493a-9c5e-65aa1452bdd8",
   "metadata": {},
   "outputs": [],
   "source": [
    "menu.add(\"chutney\")"
   ]
  },
  {
   "cell_type": "code",
   "execution_count": 6,
   "id": "6ee1482a-b10c-4b65-ac05-9f7214a89d2f",
   "metadata": {},
   "outputs": [
    {
     "data": {
      "text/plain": [
       "{'biryani', 'chutney', 'dosa', 'idli'}"
      ]
     },
     "execution_count": 6,
     "metadata": {},
     "output_type": "execute_result"
    }
   ],
   "source": [
    "menu"
   ]
  },
  {
   "cell_type": "code",
   "execution_count": 7,
   "id": "6d12e8d0-2eb2-4a2c-b1e8-d2f80edda223",
   "metadata": {},
   "outputs": [
    {
     "data": {
      "text/plain": [
       "{'chutney', 'dosa', 'idli'}"
      ]
     },
     "execution_count": 7,
     "metadata": {},
     "output_type": "execute_result"
    }
   ],
   "source": [
    "menu.remove('biryani')\n",
    "menu"
   ]
  },
  {
   "cell_type": "code",
   "execution_count": 8,
   "id": "aad91ee4-3c52-4e61-bd06-1d948e5f89ec",
   "metadata": {},
   "outputs": [
    {
     "data": {
      "text/plain": [
       "frozenset({'biryani', 'dosa', 'idli'})"
      ]
     },
     "execution_count": 8,
     "metadata": {},
     "output_type": "execute_result"
    }
   ],
   "source": [
    "menu=frozenset(['dosa' , 'idli', 'biryani'])\n",
    "menu"
   ]
  },
  {
   "cell_type": "code",
   "execution_count": 9,
   "id": "dfb22b2e-99fb-49a5-acf6-d3b9c0c533c7",
   "metadata": {},
   "outputs": [
    {
     "ename": "AttributeError",
     "evalue": "'frozenset' object has no attribute 'add'",
     "output_type": "error",
     "traceback": [
      "\u001b[31m---------------------------------------------------------------------------\u001b[39m",
      "\u001b[31mAttributeError\u001b[39m                            Traceback (most recent call last)",
      "\u001b[36mCell\u001b[39m\u001b[36m \u001b[39m\u001b[32mIn[9]\u001b[39m\u001b[32m, line 1\u001b[39m\n\u001b[32m----> \u001b[39m\u001b[32m1\u001b[39m \u001b[43mmenu\u001b[49m\u001b[43m.\u001b[49m\u001b[43madd\u001b[49m(\u001b[33m\"\u001b[39m\u001b[33mchuney\u001b[39m\u001b[33m\"\u001b[39m)\n",
      "\u001b[31mAttributeError\u001b[39m: 'frozenset' object has no attribute 'add'"
     ]
    }
   ],
   "source": [
    "menu.add(\"chuney\")"
   ]
  },
  {
   "cell_type": "code",
   "execution_count": 10,
   "id": "90399a4e-fa85-4614-9857-096c8d9ee5e8",
   "metadata": {},
   "outputs": [],
   "source": [
    "transactions = [\n",
    "    {'customer_name': \"Mira\", \"amount\": 56, \"date\": \"2024-08-01\"},\n",
    "    {'customer_name': \"Mira\", \"amount\": 12.3, \"date\": \"2024-09-05\"},\n",
    "    {'customer_name': \"Mohan\", \"amount\": 21, \"date\": \"2024-09-03\"},\n",
    "    {'customer_name': \"Mohan\", \"amount\": 36.8, \"date\": \"2024-09-10\"},\n",
    "    {'customer_name': \"Lucy\", \"amount\": 66.3, \"date\": \"2024-09-10\"}\n",
    "]"
   ]
  },
  {
   "cell_type": "code",
   "execution_count": 13,
   "id": "f3ec5408-e265-4625-a52f-656247d58e57",
   "metadata": {},
   "outputs": [
    {
     "name": "stdout",
     "output_type": "stream",
     "text": [
      "Mira\n",
      "Mira\n",
      "Mohan\n",
      "Mohan\n",
      "Lucy\n"
     ]
    }
   ],
   "source": [
    "\n",
    "for trans in transactions:\n",
    "    print(trans['customer_name'])\n",
    "    \n",
    " "
   ]
  },
  {
   "cell_type": "code",
   "execution_count": 15,
   "id": "f53f44d0-28da-4daf-93e5-91d8ea0e6738",
   "metadata": {},
   "outputs": [
    {
     "data": {
      "text/plain": [
       "{'Lucy', 'Mira', 'Mohan'}"
      ]
     },
     "execution_count": 15,
     "metadata": {},
     "output_type": "execute_result"
    }
   ],
   "source": [
    "customers = set()\n",
    "for trans in transactions:\n",
    "    customers.add(trans['customer_name'])\n",
    "customers"
   ]
  },
  {
   "cell_type": "code",
   "execution_count": 16,
   "id": "e706168a-ab01-42cd-adfc-06c456765302",
   "metadata": {},
   "outputs": [
    {
     "data": {
      "text/plain": [
       "['Lucy', 'Mohan', 'Mira']"
      ]
     },
     "execution_count": 16,
     "metadata": {},
     "output_type": "execute_result"
    }
   ],
   "source": [
    "customers_list = list(customers)\n",
    "customers_list"
   ]
  },
  {
   "cell_type": "code",
   "execution_count": null,
   "id": "5d7b1cb5-86ae-42da-8e50-abbc434c8bf7",
   "metadata": {},
   "outputs": [],
   "source": []
  },
  {
   "cell_type": "code",
   "execution_count": null,
   "id": "dc0fecf6-53f2-49df-90de-22d07c4c3df2",
   "metadata": {},
   "outputs": [],
   "source": []
  },
  {
   "cell_type": "code",
   "execution_count": 17,
   "id": "bde28d9b-6685-43cd-8940-572c1521d2f6",
   "metadata": {},
   "outputs": [],
   "source": [
    "a = {\"Mira\", \"Mohan\", \"Lucy\", \"Ahmed\"}\n",
    "b = {\"Chen\", \"Mohan\", \"Radha\", \"Maria\"}"
   ]
  },
  {
   "cell_type": "code",
   "execution_count": 18,
   "id": "0fafc7dc-97e7-49b5-9cd1-704ef96d365a",
   "metadata": {},
   "outputs": [
    {
     "data": {
      "text/plain": [
       "{'Mohan'}"
      ]
     },
     "execution_count": 18,
     "metadata": {},
     "output_type": "execute_result"
    }
   ],
   "source": [
    "common_student =a&b\n",
    "common_student"
   ]
  },
  {
   "cell_type": "code",
   "execution_count": null,
   "id": "5b714e0d-cfd1-43b1-a547-4e0a8cd6b527",
   "metadata": {},
   "outputs": [],
   "source": []
  }
 ],
 "metadata": {
  "kernelspec": {
   "display_name": "Python 3 (ipykernel)",
   "language": "python",
   "name": "python3"
  },
  "language_info": {
   "codemirror_mode": {
    "name": "ipython",
    "version": 3
   },
   "file_extension": ".py",
   "mimetype": "text/x-python",
   "name": "python",
   "nbconvert_exporter": "python",
   "pygments_lexer": "ipython3",
   "version": "3.13.5"
  }
 },
 "nbformat": 4,
 "nbformat_minor": 5
}
