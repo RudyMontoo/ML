{
 "cells": [
  {
   "cell_type": "code",
   "execution_count": 1,
   "id": "d9c59692-fa49-494c-ad91-95aceb296411",
   "metadata": {},
   "outputs": [],
   "source": [
    "import numpy as np"
   ]
  },
  {
   "cell_type": "code",
   "execution_count": 3,
   "id": "59ad46f4-7273-441a-8200-b7b37fcb6f5a",
   "metadata": {},
   "outputs": [
    {
     "data": {
      "text/plain": [
       "array([1, 2, 3])"
      ]
     },
     "execution_count": 3,
     "metadata": {},
     "output_type": "execute_result"
    }
   ],
   "source": [
    "arr=np.array([1,2,3])\n",
    "arr"
   ]
  },
  {
   "cell_type": "code",
   "execution_count": 11,
   "id": "d4855ba2-e90b-44c1-afbe-f177dd0e7243",
   "metadata": {},
   "outputs": [
    {
     "name": "stdout",
     "output_type": "stream",
     "text": [
      "\n",
      "\n",
      "0.04054069519042969\n"
     ]
    }
   ],
   "source": [
    "import time\n",
    "SIZE=100000\n",
    "l1=list(range(SIZE))\n",
    "l2=list(range(SIZE))\n",
    "start_time=time.time()\n",
    "l3=[x+y for x,y in zip(l1,l2)]\n",
    "end_time=time.time()\n",
    "l3[:5]\n",
    "print(\"\\n\")\n",
    "print(end_time-start_time)"
   ]
  },
  {
   "cell_type": "code",
   "execution_count": 12,
   "id": "7b8c2506-9dde-4594-9bf5-9d6c2e77aa38",
   "metadata": {},
   "outputs": [
    {
     "data": {
      "text/plain": [
       "(array([0, 1, 2, 3]), array([0, 1, 2, 3]))"
      ]
     },
     "execution_count": 12,
     "metadata": {},
     "output_type": "execute_result"
    }
   ],
   "source": [
    "n1=np.arange(SIZE)\n",
    "n2=np.arange(SIZE)\n",
    "\n",
    "n1[:4], n2[:4]"
   ]
  },
  {
   "cell_type": "code",
   "execution_count": 16,
   "id": "d85acd9b-7877-4094-a20f-fd3fcf0ad9f1",
   "metadata": {},
   "outputs": [
    {
     "name": "stdout",
     "output_type": "stream",
     "text": [
      "0.0010013580322265625\n"
     ]
    }
   ],
   "source": [
    "start_time=time.time()\n",
    "n3=n1+n2\n",
    "end_time=time.time()\n",
    "print(end_time-start_time)\n",
    "# numpy take less timr as compared to th list"
   ]
  }
 ],
 "metadata": {
  "kernelspec": {
   "display_name": "Python 3 (ipykernel)",
   "language": "python",
   "name": "python3"
  },
  "language_info": {
   "codemirror_mode": {
    "name": "ipython",
    "version": 3
   },
   "file_extension": ".py",
   "mimetype": "text/x-python",
   "name": "python",
   "nbconvert_exporter": "python",
   "pygments_lexer": "ipython3",
   "version": "3.13.5"
  }
 },
 "nbformat": 4,
 "nbformat_minor": 5
}
