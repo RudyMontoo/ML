{
 "cells": [
  {
   "cell_type": "code",
   "execution_count": 1,
   "id": "8019ff18-8ca5-42ce-b1ab-c628e807320e",
   "metadata": {},
   "outputs": [],
   "source": [
    "import numpy as np\n"
   ]
  },
  {
   "cell_type": "code",
   "execution_count": 3,
   "id": "e7c51dc3-ce3d-4d8b-9c87-7add26ddac1c",
   "metadata": {},
   "outputs": [
    {
     "data": {
      "text/plain": [
       "1"
      ]
     },
     "execution_count": 3,
     "metadata": {},
     "output_type": "execute_result"
    }
   ],
   "source": [
    "revenue_q1=np.array([12,45,76])\n",
    "revenue_q1.ndim\n"
   ]
  },
  {
   "cell_type": "code",
   "execution_count": 5,
   "id": "e82cd788-0889-4f86-b82a-7853339faaa5",
   "metadata": {},
   "outputs": [
    {
     "data": {
      "text/plain": [
       "array([[   1,   98, 2567],\n",
       "       [   6,   40,  875]])"
      ]
     },
     "execution_count": 5,
     "metadata": {},
     "output_type": "execute_result"
    }
   ],
   "source": [
    "rev=np.array([[1,2567,98],[40,875,6]])\n",
    "np.sort(rev)"
   ]
  },
  {
   "cell_type": "code",
   "execution_count": 15,
   "id": "6a5d2881-2fb7-4d20-ba3f-004e9a56be11",
   "metadata": {},
   "outputs": [
    {
     "data": {
      "text/plain": [
       "array([[600, 640, 690],\n",
       "       [550, 650, 610],\n",
       "       [780, 760, 736]])"
      ]
     },
     "execution_count": 15,
     "metadata": {},
     "output_type": "execute_result"
    }
   ],
   "source": [
    "q1=np.array([ #rows are product and col are region usa china india\n",
    "    [200,220,250],#product 1\n",
    "    [150,180,210],#product 2\n",
    "    [300,330,268] #product 2\n",
    "])\n",
    "q2=np.array([\n",
    "    [400,420,440],\n",
    "    [400,470,400],\n",
    "    [480,430,468]\n",
    "])\n",
    "q1+q2"
   ]
  },
  {
   "cell_type": "code",
   "execution_count": 14,
   "id": "75cac1e8-383b-4cc0-a290-d11abeae60ab",
   "metadata": {},
   "outputs": [
    {
     "data": {
      "text/plain": [
       "array([[100.        ,  90.90909091,  76.        ],\n",
       "       [166.66666667, 161.11111111,  90.47619048],\n",
       "       [ 60.        ,  30.3030303 ,  74.62686567]])"
      ]
     },
     "execution_count": 14,
     "metadata": {},
     "output_type": "execute_result"
    }
   ],
   "source": [
    "(q2-q1)*100/q1"
   ]
  },
  {
   "cell_type": "code",
   "execution_count": 17,
   "id": "33025b26-48b7-4718-8313-4a547f3e23a0",
   "metadata": {},
   "outputs": [
    {
     "data": {
      "text/plain": [
       "array([[2000, 2640, 2750],\n",
       "       [1200, 1620, 2100],\n",
       "       [4500, 5280, 4556]])"
      ]
     },
     "execution_count": 17,
     "metadata": {},
     "output_type": "execute_result"
    }
   ],
   "source": [
    "prices=np.array([[10, 12,11],#prices for product 1\n",
    "       [8, 9, 10],#prices for product 1\n",
    "       [15, 16, 17]])#prices for product 1\n",
    "q1_revenue=q1*prices\n",
    "q1_revenue"
   ]
  },
  {
   "cell_type": "code",
   "execution_count": 20,
   "id": "2623a3dc-e773-4bcc-b26b-062d70902ac9",
   "metadata": {},
   "outputs": [
    {
     "data": {
      "text/plain": [
       "array([[ 400. ,  528. ,  550. ],\n",
       "       [ 240. ,  324. ,  420. ],\n",
       "       [ 900. , 1056. ,  911.2]])"
      ]
     },
     "execution_count": 20,
     "metadata": {},
     "output_type": "execute_result"
    }
   ],
   "source": [
    "q1_discount=q1_revenue*0.2\n",
    "q1_discount"
   ]
  },
  {
   "cell_type": "code",
   "execution_count": 22,
   "id": "f5dca95a-0fc6-4c42-a0d1-246d06efdb81",
   "metadata": {},
   "outputs": [
    {
     "data": {
      "text/plain": [
       "array([[1600. , 2112. , 2200. ],\n",
       "       [ 960. , 1296. , 1680. ],\n",
       "       [3600. , 4224. , 3644.8]])"
      ]
     },
     "execution_count": 22,
     "metadata": {},
     "output_type": "execute_result"
    }
   ],
   "source": [
    "net_revenue=q1_revenue-q1_discount\n",
    "net_revenue"
   ]
  },
  {
   "cell_type": "code",
   "execution_count": 24,
   "id": "b0d4952f-b885-4750-9baf-dcb550e2640d",
   "metadata": {},
   "outputs": [
    {
     "data": {
      "text/plain": [
       "np.float64(5329.2)"
      ]
     },
     "execution_count": 24,
     "metadata": {},
     "output_type": "execute_result"
    }
   ],
   "source": [
    "np.sum(q1_discount)"
   ]
  }
 ],
 "metadata": {
  "kernelspec": {
   "display_name": "Python 3 (ipykernel)",
   "language": "python",
   "name": "python3"
  },
  "language_info": {
   "codemirror_mode": {
    "name": "ipython",
    "version": 3
   },
   "file_extension": ".py",
   "mimetype": "text/x-python",
   "name": "python",
   "nbconvert_exporter": "python",
   "pygments_lexer": "ipython3",
   "version": "3.13.5"
  }
 },
 "nbformat": 4,
 "nbformat_minor": 5
}
