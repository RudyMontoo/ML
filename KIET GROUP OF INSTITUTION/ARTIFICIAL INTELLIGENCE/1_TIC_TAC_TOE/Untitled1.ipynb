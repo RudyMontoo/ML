{
 "cells": [
  {
   "cell_type": "code",
   "execution_count": null,
   "id": "4d2755b7-1200-4bc1-9359-700d4cec5e53",
   "metadata": {},
   "outputs": [],
   "source": [
    "# Rules of Instruction\n",
    "# Player 1 = user and Player 2 = system\n",
    "\n",
    "# Rules: if a player has align his symbol horizontally Vertically or Diagonlly ---(WINNER)\n",
    "\n",
    "# there is 3*3 matrix it means there is 9 posibilities\n",
    "\n",
    "\n",
    "# Firstly Player 1 will play by:\n",
    "#     1) Select Row\n",
    "#     2) Select Col\n",
    "# Condition:\n",
    "#     1)Selected box is not empty initially Print \"Cell Already fill\"\n",
    "#     2)if given input is beyond row col Print \"Ivalid Input\"\n",
    "#     3)if given input is not a int num Print \"Invalid Input\"\n",
    "\n",
    "# Computer Movement:\n",
    "#     Using Random Function\n",
    "\n",
    "# Function:\n",
    "#     1)Print Board\n",
    "#     2)Check Winner\n",
    "#     3)Player moves\n",
    "#     4)Computer Moves\n",
    "#     5)Main Function\n",
    "    "
   ]
  },
  {
   "cell_type": "code",
   "execution_count": 1,
   "id": "361cb82d-3093-42b3-8495-d30bdb96166f",
   "metadata": {},
   "outputs": [
    {
     "name": "stdout",
     "output_type": "stream",
     "text": [
      "You are 'X'. Computer is 'O'.\n",
      "-------------\n",
      "|   |   |   |\n",
      "-------------\n",
      "|   |   |   |\n",
      "-------------\n",
      "|   |   |   |\n",
      "-------------\n",
      "Your turn!\n"
     ]
    },
    {
     "name": "stdin",
     "output_type": "stream",
     "text": [
      "Enter row (0, 1, 2):  2\n",
      "Enter column (0, 1, 2):  1\n"
     ]
    },
    {
     "name": "stdout",
     "output_type": "stream",
     "text": [
      "-------------\n",
      "|   |   |   |\n",
      "-------------\n",
      "|   |   |   |\n",
      "-------------\n",
      "|   | X |   |\n",
      "-------------\n",
      "Computer's turn...\n",
      "-------------\n",
      "|   | O |   |\n",
      "-------------\n",
      "|   |   |   |\n",
      "-------------\n",
      "|   | X |   |\n",
      "-------------\n",
      "Your turn!\n"
     ]
    },
    {
     "name": "stdin",
     "output_type": "stream",
     "text": [
      "Enter row (0, 1, 2):  2\n",
      "Enter column (0, 1, 2):  1\n"
     ]
    },
    {
     "name": "stdout",
     "output_type": "stream",
     "text": [
      "Cell already filled. Try again.\n"
     ]
    },
    {
     "name": "stdin",
     "output_type": "stream",
     "text": [
      "Enter row (0, 1, 2):  1\n",
      "Enter column (0, 1, 2):  1\n"
     ]
    },
    {
     "name": "stdout",
     "output_type": "stream",
     "text": [
      "-------------\n",
      "|   | O |   |\n",
      "-------------\n",
      "|   | X |   |\n",
      "-------------\n",
      "|   | X |   |\n",
      "-------------\n",
      "Computer's turn...\n",
      "-------------\n",
      "|   | O | O |\n",
      "-------------\n",
      "|   | X |   |\n",
      "-------------\n",
      "|   | X |   |\n",
      "-------------\n",
      "Your turn!\n"
     ]
    },
    {
     "name": "stdin",
     "output_type": "stream",
     "text": [
      "Enter row (0, 1, 2):  0\n",
      "Enter column (0, 1, 2):  0\n"
     ]
    },
    {
     "name": "stdout",
     "output_type": "stream",
     "text": [
      "-------------\n",
      "| X | O | O |\n",
      "-------------\n",
      "|   | X |   |\n",
      "-------------\n",
      "|   | X |   |\n",
      "-------------\n",
      "Computer's turn...\n",
      "-------------\n",
      "| X | O | O |\n",
      "-------------\n",
      "|   | X | O |\n",
      "-------------\n",
      "|   | X |   |\n",
      "-------------\n",
      "Your turn!\n"
     ]
    },
    {
     "name": "stdin",
     "output_type": "stream",
     "text": [
      "Enter row (0, 1, 2):  2\n",
      "Enter column (0, 1, 2):  2\n"
     ]
    },
    {
     "name": "stdout",
     "output_type": "stream",
     "text": [
      "-------------\n",
      "| X | O | O |\n",
      "-------------\n",
      "|   | X | O |\n",
      "-------------\n",
      "|   | X | X |\n",
      "-------------\n",
      "You win!\n"
     ]
    }
   ],
   "source": [
    "import random\n",
    "\n",
    "def print_board(board):\n",
    "    print(\"-------------\")\n",
    "    for row in board:\n",
    "        print(\"|\", \" | \".join(row), \"|\")\n",
    "        print(\"-------------\")\n",
    "\n",
    "def have_won(board, player):\n",
    "    \n",
    "    for i in range(3):\n",
    "        if all([cell == player for cell in board[i]]):\n",
    "            return True\n",
    "        if all([board[j][i] == player for j in range(3)]):\n",
    "            return True\n",
    "   \n",
    "    if all([board[i][i] == player for i in range(3)]):\n",
    "        return True\n",
    "    if all([board[i][2-i] == player for i in range(3)]):\n",
    "        return True\n",
    "    return False\n",
    "\n",
    "def is_draw(board):\n",
    "    return all(cell != ' ' for row in board for cell in row)\n",
    "\n",
    "def get_player_move(board):\n",
    "    while True:\n",
    "        try:\n",
    "            row = int(input(\"Enter row (0, 1, 2): \"))\n",
    "            col = int(input(\"Enter column (0, 1, 2): \"))\n",
    "            if 0 <= row < 3 and 0 <= col < 3:\n",
    "                if board[row][col] == ' ':\n",
    "                    return row, col\n",
    "                else:\n",
    "                    print(\"Cell already filled. Try again.\")\n",
    "            else:\n",
    "                print(\"Invalid input. Try again.\")\n",
    "        except ValueError:\n",
    "            print(\"Invalid input. Please enter numbers.\")\n",
    "\n",
    "def get_computer_move(board):\n",
    "    empty_cells = [(i, j) for i in range(3) for j in range(3) if board[i][j] == ' ']\n",
    "    return random.choice(empty_cells)\n",
    "\n",
    "def main():\n",
    "    board = [[' ' for _ in range(3)] for _ in range(3)]\n",
    "    player = 'X'  #\n",
    "    computer = 'O'\n",
    "    gameover = False\n",
    "\n",
    "    print(\"You are 'X'. Computer is 'O'.\")\n",
    "    print_board(board)\n",
    "\n",
    "    while not gameover:\n",
    "        \n",
    "        print(\"Your turn!\")\n",
    "        row, col = get_player_move(board)\n",
    "        board[row][col] = player\n",
    "        print_board(board)\n",
    "        if have_won(board, player):\n",
    "            print(\"You win!\")\n",
    "            break\n",
    "        if is_draw(board):\n",
    "            print(\"It's a draw!\")\n",
    "            break\n",
    "\n",
    "        # Computer move\n",
    "        print(\"Computer's turn...\")\n",
    "        row, col = get_computer_move(board)\n",
    "        board[row][col] = computer\n",
    "        print_board(board)\n",
    "        if have_won(board, computer):\n",
    "            print(\"Computer wins!\")\n",
    "            break\n",
    "        if is_draw(board):\n",
    "            print(\"It's a draw!\")\n",
    "            break\n",
    "\n",
    "if __name__ == \"__main__\":\n",
    "    main()"
   ]
  }
 ],
 "metadata": {
  "kernelspec": {
   "display_name": "Python 3 (ipykernel)",
   "language": "python",
   "name": "python3"
  },
  "language_info": {
   "codemirror_mode": {
    "name": "ipython",
    "version": 3
   },
   "file_extension": ".py",
   "mimetype": "text/x-python",
   "name": "python",
   "nbconvert_exporter": "python",
   "pygments_lexer": "ipython3",
   "version": "3.13.5"
  }
 },
 "nbformat": 4,
 "nbformat_minor": 5
}
