{
 "cells": [
  {
   "cell_type": "code",
   "execution_count": 9,
   "id": "f2e8c644-b7de-48cd-bf0e-4ea758476546",
   "metadata": {},
   "outputs": [],
   "source": [
    "d={\n",
    "    'rohit':[],\n",
    "    'sakib':[]\n",
    "}"
   ]
  },
  {
   "cell_type": "code",
   "execution_count": 27,
   "id": "f931e88c-f714-40ce-a36d-f080e7a0a21a",
   "metadata": {},
   "outputs": [
    {
     "data": {
      "text/plain": [
       "{'Ben Stokes': [89, 84],\n",
       " 'Chris Gayle': [50],\n",
       " 'Dimuth Karunaratne': [52],\n",
       " 'David Warner': [89, 107, 166, 122],\n",
       " 'Mushfiqur Rahim': [78, 83],\n",
       " 'Mohammad Hafeez': [84],\n",
       " 'Kusal Perera': [78],\n",
       " 'Rohit Sharma': [122, 140, 104],\n",
       " 'Ross Taylor': [82],\n",
       " 'Nathan Coulter-Nile': [92],\n",
       " 'Jason Roy': [153],\n",
       " 'Kane Williamson': [79, 106, 148],\n",
       " 'Shikhar Dhawan': [117],\n",
       " 'Joe Root': [100],\n",
       " 'Aaron Finch': [153, 100],\n",
       " 'Shakib Al Hasan': [124],\n",
       " 'Eoin Morgan': [148],\n",
       " 'Angelo Mathews': [85],\n",
       " 'Virat Kohli': [67, 72],\n",
       " 'Haris Sohail': [89],\n",
       " 'Babar Azam': [101],\n",
       " 'Hashim Amla': [80],\n",
       " 'Imad Wasim': [49],\n",
       " 'Usman Khawaja': [88],\n",
       " 'Jonny Bairstow': [111, 106],\n",
       " 'Avishka Fernando': [104],\n",
       " 'Shai Hope': [77],\n",
       " 'Imam-ul-Haq': [100],\n",
       " 'Ravindra Jadeja': [77],\n",
       " 'Steve Smith': [85]}"
      ]
     },
     "execution_count": 27,
     "metadata": {},
     "output_type": "execute_result"
    }
   ],
   "source": [
    "player_scores={}\n",
    "\n",
    "with open(\"cwc2019.txt\",\"r\") as f:\n",
    "    for line in f:\n",
    "        player, score, match_no = line.strip().split(\",\")  # Adjust if needed\n",
    "        score_value = score.strip()\n",
    "        if score_value.isdigit():  # Only process numeric scores\n",
    "            score_value = int(score_value)\n",
    "            if player in player_scores:\n",
    "                player_scores[player].append(score_value)\n",
    "            else:\n",
    "                player_scores[player] = [score_value]\n",
    "        # else: skip non-numeric scores\n",
    "\n",
    "player_scores\n",
    "        "
   ]
  },
  {
   "cell_type": "code",
   "execution_count": 33,
   "id": "c5c1c4bd-8d3c-4480-8037-688e0ad91460",
   "metadata": {},
   "outputs": [
    {
     "ename": "TypeError",
     "evalue": "'int' object is not callable",
     "output_type": "error",
     "traceback": [
      "\u001b[31m---------------------------------------------------------------------------\u001b[39m",
      "\u001b[31mTypeError\u001b[39m                                 Traceback (most recent call last)",
      "\u001b[36mCell\u001b[39m\u001b[36m \u001b[39m\u001b[32mIn[33]\u001b[39m\u001b[32m, line 2\u001b[39m\n\u001b[32m      1\u001b[39m \u001b[38;5;28;01mfor\u001b[39;00m player, score \u001b[38;5;129;01min\u001b[39;00m player_scores.items():\n\u001b[32m----> \u001b[39m\u001b[32m2\u001b[39m     min_score = \u001b[38;5;28;43mmin\u001b[39;49m\u001b[43m(\u001b[49m\u001b[43mscore\u001b[49m\u001b[43m)\u001b[49m\n\u001b[32m      3\u001b[39m     max_score = \u001b[38;5;28mmax\u001b[39m(score)\n\u001b[32m      4\u001b[39m     avg = \u001b[38;5;28msum\u001b[39m(score) / \u001b[38;5;28mlen\u001b[39m(score)\n",
      "\u001b[31mTypeError\u001b[39m: 'int' object is not callable"
     ]
    }
   ],
   "source": [
    "for player, score in player_scores.items():\n",
    "    min_score = min(score)\n",
    "    max_score = max(score)\n",
    "    avg = sum(score) / len(score)\n",
    "    print(f\"{player} ==> Min {min_score}, Max {max_score}, Avg {avg}\")"
   ]
  },
  {
   "cell_type": "code",
   "execution_count": null,
   "id": "2e1d9824-386b-4cd1-b44a-3e800ae8c9ab",
   "metadata": {},
   "outputs": [],
   "source": []
  }
 ],
 "metadata": {
  "kernelspec": {
   "display_name": "Python 3 (ipykernel)",
   "language": "python",
   "name": "python3"
  },
  "language_info": {
   "codemirror_mode": {
    "name": "ipython",
    "version": 3
   },
   "file_extension": ".py",
   "mimetype": "text/x-python",
   "name": "python",
   "nbconvert_exporter": "python",
   "pygments_lexer": "ipython3",
   "version": "3.13.5"
  }
 },
 "nbformat": 4,
 "nbformat_minor": 5
}
